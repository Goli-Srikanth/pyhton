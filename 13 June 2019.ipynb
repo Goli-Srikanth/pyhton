{
 "cells": [
  {
   "cell_type": "code",
   "execution_count": 8,
   "metadata": {},
   "outputs": [
    {
     "name": "stdout",
     "output_type": "stream",
     "text": [
      "10 9 8 7 6 5 4 3 2 1 "
     ]
    }
   ],
   "source": [
    "#Function to print reverse of given range in the\n",
    "\n",
    "\n",
    "def reverseRange(start, end):\n",
    "    for value in range(end, start-1, -1):\n",
    "        print(value, end = \" \")\n",
    "    return\n",
    "reverseRange(1, 10)"
   ]
  },
  {
   "cell_type": "code",
   "execution_count": 3,
   "metadata": {},
   "outputs": [
    {
     "name": "stdout",
     "output_type": "stream",
     "text": [
      "19 17 15 13 11 9 7 5 3 1 "
     ]
    }
   ],
   "source": [
    "#Function to print reverse of odd numbers given range in the\n",
    "\n",
    "\n",
    "def reverseRange(start, end):\n",
    "    for value in range(end-1, start-1, -2):\n",
    "        print(value, end = \" \")\n",
    "    return\n",
    "reverseRange(1, 20)"
   ]
  },
  {
   "cell_type": "code",
   "execution_count": 14,
   "metadata": {},
   "outputs": [
    {
     "data": {
      "text/plain": [
       "55"
      ]
     },
     "execution_count": 14,
     "metadata": {},
     "output_type": "execute_result"
    }
   ],
   "source": [
    "# Function to calculate the sum of numbers in a range\n",
    "def sumofnumbers(start, end):\n",
    "    summ = 0\n",
    "    for value in range(start,end+1):\n",
    "        summ+= value\n",
    "    return summ\n",
    "sumofnumbers(1, 10)"
   ]
  },
  {
   "cell_type": "code",
   "execution_count": 15,
   "metadata": {},
   "outputs": [
    {
     "data": {
      "text/plain": [
       "5.5"
      ]
     },
     "execution_count": 15,
     "metadata": {},
     "output_type": "execute_result"
    }
   ],
   "source": [
    "#Function to calculate average of given range in the\n",
    "\n",
    "\n",
    "def sumofnumbers(start, end):\n",
    "    count =0\n",
    "    summ = 0\n",
    "    for value in range(start,end+1):\n",
    "        summ+= value \n",
    "        count+=1\n",
    "    return summ/count\n",
    "sumofnumbers(1, 10)"
   ]
  },
  {
   "cell_type": "code",
   "execution_count": 16,
   "metadata": {},
   "outputs": [
    {
     "name": "stdout",
     "output_type": "stream",
     "text": [
      "2000 2004 2008 2012 2016 2020 2024 2028 2032 2036 2040 2044 2048 2052 2056 "
     ]
    }
   ],
   "source": [
    "#Check the leap years in a given range\n",
    "def leap(year):\n",
    "    if year % 400 == 0 or(year % 100!=0 and year % 4 == 0):\n",
    "        return True\n",
    "    return False\n",
    "def leapyears(startyear, endyear):\n",
    "    for year in range(startyear, endyear+1):\n",
    "        if leap(year):\n",
    "            print(year, end=\" \")\n",
    "    return\n",
    "leapyears(2000, 2059)"
   ]
  },
  {
   "cell_type": "code",
   "execution_count": 20,
   "metadata": {},
   "outputs": [],
   "source": [
    "#Calculate number of days in a given time period using leappyear\n",
    "#Forevery year in the given time period, if the year is not leap year\n",
    "\n",
    "def numberofdays(startyear, endyear):\n",
    "    sum=0\n",
    "    for year in range(startyear, endyear+1):\n",
    "        if isleapyear(year):\n",
    "            sum=sum+366\n",
    "        else:\n",
    "            sum=sum+365\n",
    "    return sum"
   ]
  },
  {
   "cell_type": "markdown",
   "metadata": {},
   "source": [
    "# Function to calculate number of hours\n",
    "#Numberof hours(11, 1975, 3, 1999)\n",
    "#numberofhours(5, 2019, 6, 2019)\n",
    "#2, 2017, 6, 2019\n",
    "#No of Hours = 24*no of days\n",
    "#3 Steps\n",
    "    #1. Srart month year ro end of year - calculate no of days\n",
    "    #2. calculate days for all years between start year and end year exclusive\n",
    "        #2017, 2018 - 365 * no of years\n",
    "    #3. calculate days from jan to end month year\n",
    "#Excluding Feb\n",
    "#1, 3, 4, \n",
    "\n",
    "def numberofdaysmonth(month, year):\n",
    "    if month == 2:\n",
    "        if rangeLeapYear(year):\n",
    "            return 29\n",
    "        return 28\n",
    "    elif (month <= 7 and month % 2!= 0) or (month >= 8 and month % 2 == 0):\n",
    "        return 31\n",
    "    else:\n",
    "        return 30\n",
    "\n",
    "def daysInStartYear(startmonth, startyear):\n",
    "    days = 0\n",
    "    for month in range(startmonth, 13):\n",
    "        dyas += numberofdaysmonth(month, startyear)\n",
    "    return days\n",
    "\n",
    "def daysInEndYear(endmonth, endyear):\n",
    "    days = 0\n",
    "    for month in range(1, endmonth+1):\n",
    "        days += numberofdaysmonth(month, endyear)\n",
    "    return days\n",
    "\n",
    "def numberOfHours(startmonth, startyear, endmonth, endyear):\n",
    "    days = 0\n",
    "    if startyear != endyear:\n",
    "        days += daysInStartYear(startmonth, startyear)\n",
    "        days += daysInEndYear(endmonth, endyear)\n",
    "        if endyear - startyear == 2:\n",
    "            days += numberofdaysmonth(startyear+1, startyear+1)\n",
    "        elif endyear - startyear > 2:\n",
    "            days += numberofdaysmonth(startyear+1, endyear-1)\n",
    "    else:\n",
    "        for month in range(startmonth, endmonth+1):\n",
    "            days += numberofdaysmonth(month, startyear)\n",
    "    return 24 * days\n",
    "numberOfHours(11, 1975, 3, 2018)"
   ]
  },
  {
   "cell_type": "code",
   "execution_count": 25,
   "metadata": {},
   "outputs": [
    {
     "name": "stdout",
     "output_type": "stream",
     "text": [
      "1920 1924 1928 1932 1936 1940 1944 1948 1952 1956 1960 1964 1968 1972 1976 1980 1984 1988 1992 1996 2000 2004 2008 2012 2016 "
     ]
    }
   ],
   "source": [
    "def rangeLeapYear(year):   \n",
    "    if year % 400 == 0 or (year % 100 !=0 and year % 4 == 0):\n",
    "        return True\n",
    "    return False\n",
    "\n",
    "def checkLeapYear(start, endyear):\n",
    "    for year in range(start, endyear+1):\n",
    "        if rangeLeapYear(year):\n",
    "            print(year, end=\" \")\n",
    "    return\n",
    "    \n",
    "checkLeapYear(1919, 2019)"
   ]
  },
  {
   "cell_type": "code",
   "execution_count": null,
   "metadata": {},
   "outputs": [],
   "source": []
  },
  {
   "cell_type": "code",
   "execution_count": null,
   "metadata": {},
   "outputs": [],
   "source": []
  }
 ],
 "metadata": {
  "kernelspec": {
   "display_name": "Python 3",
   "language": "python",
   "name": "python3"
  },
  "language_info": {
   "codemirror_mode": {
    "name": "ipython",
    "version": 3
   },
   "file_extension": ".py",
   "mimetype": "text/x-python",
   "name": "python",
   "nbconvert_exporter": "python",
   "pygments_lexer": "ipython3",
   "version": "3.7.3"
  }
 },
 "nbformat": 4,
 "nbformat_minor": 2
}

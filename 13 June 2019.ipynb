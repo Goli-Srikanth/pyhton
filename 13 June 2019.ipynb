{
 "cells": [
  {
   "cell_type": "code",
   "execution_count": 8,
   "metadata": {},
   "outputs": [
    {
     "name": "stdout",
     "output_type": "stream",
     "text": [
      "10 9 8 7 6 5 4 3 2 1 "
     ]
    }
   ],
   "source": [
    "#Function to print reverse of given range in the\n",
    "\n",
    "\n",
    "def reverseRange(start, end):\n",
    "    for value in range(end, start-1, -1):\n",
    "        print(value, end = \" \")\n",
    "    return\n",
    "reverseRange(1, 10)"
   ]
  },
  {
   "cell_type": "code",
   "execution_count": 26,
   "metadata": {},
   "outputs": [
    {
     "name": "stdout",
     "output_type": "stream",
     "text": [
      "19 17 15 13 11 9 7 5 3 1 "
     ]
    }
   ],
   "source": [
    "#Function to print reverse of odd numbers given range in the\n",
    "\n",
    "\n",
    "def reverseRange(start, end):\n",
    "    for value in range(end-1, start-1, -2):\n",
    "        print(value, end = \" \")\n",
    "    return\n",
    "reverseRange(1, 20)"
   ]
  },
  {
   "cell_type": "code",
   "execution_count": 40,
   "metadata": {},
   "outputs": [
    {
     "data": {
      "text/plain": [
       "55"
      ]
     },
     "execution_count": 40,
     "metadata": {},
     "output_type": "execute_result"
    }
   ],
   "source": [
    "# Function to calculate the sum of numbers in a range\n",
    "def sumofnumbers(start, end):\n",
    "    summ = 0\n",
    "    for value in range(start,end+1):\n",
    "        summ+= value\n",
    "    return summ\n",
    "sumofnumbers(1, 10)"
   ]
  },
  {
   "cell_type": "code",
   "execution_count": 42,
   "metadata": {},
   "outputs": [
    {
     "data": {
      "text/plain": [
       "5.5"
      ]
     },
     "execution_count": 42,
     "metadata": {},
     "output_type": "execute_result"
    }
   ],
   "source": [
    "#Function to calculate average of given range in the\n",
    "\n",
    "\n",
    "def sumofnumbers(start, end):\n",
    "    count =0\n",
    "    summ = 0\n",
    "    for value in range(start,end+1):\n",
    "        summ+= value \n",
    "        count+=1\n",
    "    return summ/count\n",
    "sumofnumbers(1, 10)"
   ]
  }
 ],
 "metadata": {
  "kernelspec": {
   "display_name": "Python 3",
   "language": "python",
   "name": "python3"
  },
  "language_info": {
   "codemirror_mode": {
    "name": "ipython",
    "version": 3
   },
   "file_extension": ".py",
   "mimetype": "text/x-python",
   "name": "python",
   "nbconvert_exporter": "python",
   "pygments_lexer": "ipython3",
   "version": "3.7.3"
  }
 },
 "nbformat": 4,
 "nbformat_minor": 2
}

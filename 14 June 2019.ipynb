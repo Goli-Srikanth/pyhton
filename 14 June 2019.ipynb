{
 "cells": [
  {
   "cell_type": "markdown",
   "metadata": {},
   "source": [
    "### Pyhton Data Structures\n",
    "- Lists\n"
   ]
  },
  {
   "cell_type": "code",
   "execution_count": 65,
   "metadata": {},
   "outputs": [
    {
     "data": {
      "text/plain": [
       "65096.0"
      ]
     },
     "execution_count": 65,
     "metadata": {},
     "output_type": "execute_result"
    }
   ],
   "source": [
    "li = [123, 897, 456, 3424, 3242, 324234]\n",
    "li #Access the entire list\n",
    "li[0] # Access an element with index in a list\n",
    "li[1:] #Access all elements except first element and till the last element\n",
    "li[::-1]\n",
    "li = li[::-1] # to store the elements in reverse order\n",
    "li = li[::-1] # to store to the original position\n",
    "li[::2] #Accessing even index elements\n",
    "\n",
    "li[1::2] #Accessing odd index elements\n",
    "\n",
    "# list can be accessed in two ways\n",
    "    # Direct Referencing - [index]\n",
    "    # Indirect Referencing - through functions\n",
    "# Adding an element to the end of list    \n",
    "li.append(123)\n",
    "\n",
    "li.insert(2, 345) # Adding an element at a particular index value\n",
    "\n",
    "li.sort() # Sort elements in ascending order\n",
    "\n",
    "li.sort(reverse=True) # Sort elements in descending order\n",
    "\n",
    "li.pop() #Reverse the last element in a list\n",
    "\n",
    "li.pop(2) # Remove the element using index value at a particular position\n",
    "\n",
    "li2 = [1, 2, 3, 4] # **Second List**\n",
    "\n",
    "li.extend(li2) # to add elements of second list to list1\n",
    "sum(li) # to sum all the elements in the list\n",
    "max(li) # maximum number from the list\n",
    "len(li) # length of the list\n",
    "\n",
    "sum(li)/len(li) #average of the list\n",
    "\n",
    "#Average of all alternate elements at even positions\n",
    "\n",
    "sum(li[::2])/len(li[::2])\n"
   ]
  },
  {
   "cell_type": "code",
   "execution_count": 129,
   "metadata": {},
   "outputs": [
    {
     "data": {
      "text/plain": [
       "123"
      ]
     },
     "execution_count": 129,
     "metadata": {},
     "output_type": "execute_result"
    }
   ],
   "source": [
    "#Function to identify the second largest element for unique data\n",
    "li=[1,2,3,4,11,123,345]\n",
    "def secondLargest(li):\n",
    "    li.sort()\n",
    "    return li[-2]\n",
    "secondLargest(li)\n"
   ]
  },
  {
   "cell_type": "code",
   "execution_count": 145,
   "metadata": {},
   "outputs": [
    {
     "data": {
      "text/plain": [
       "4"
      ]
     },
     "execution_count": 145,
     "metadata": {},
     "output_type": "execute_result"
    }
   ],
   "source": [
    "#Function to identify the nth largest element\n",
    "def genericLargest(li, n):\n",
    "    li.sort()\n",
    "    return li[-n]\n",
    "secondLargest(li)\n",
    "genericLargest(li, 4)\n"
   ]
  },
  {
   "cell_type": "code",
   "execution_count": null,
   "metadata": {},
   "outputs": [],
   "source": []
  },
  {
   "cell_type": "code",
   "execution_count": 91,
   "metadata": {},
   "outputs": [
    {
     "name": "stdout",
     "output_type": "stream",
     "text": [
      "Enter a list element separated by space 1 2 3 4 5\n",
      "Calculating sum of element of input list\n",
      "Sum =  15\n"
     ]
    }
   ],
   "source": [
    "#Sum of generic numbers \n",
    "input_string = input(\"Enter a list element separated by space \")\n",
    "list  = input_string.split()\n",
    "print(\"Calculating sum of element of input list\")\n",
    "sum = 0\n",
    "for num in list:\n",
    "    sum += int(num)\n",
    "print(\"Sum = \",sum)"
   ]
  },
  {
   "cell_type": "code",
   "execution_count": null,
   "metadata": {},
   "outputs": [],
   "source": []
  },
  {
   "cell_type": "code",
   "execution_count": 135,
   "metadata": {},
   "outputs": [
    {
     "data": {
      "text/plain": [
       "-1"
      ]
     },
     "execution_count": 135,
     "metadata": {},
     "output_type": "execute_result"
    }
   ],
   "source": [
    "#Function to search for data in a list\n",
    "#Search for the key in the list and return the index of the key, return -1 if not found\n",
    "def linearSearch(li, key):\n",
    "    for index in range(0, len(li)):\n",
    "        if li[index] == key:\n",
    "            return index\n",
    "    return -1\n",
    "linearSearch(li, 4)\n",
    "\n",
    "# Second way of finding the key\n",
    "def linearSearch2(li, key):\n",
    "    for element in li:\n",
    "        if element == key:\n",
    "            return li.index(element)\n",
    "    return -1\n",
    "linearSearch2(li, 234)\n",
    "\n",
    "#third way \n",
    "def linearSearch3(li, key):\n",
    "    if key in li:\n",
    "        return li.index(key)\n",
    "    return -1\n",
    "\n",
    "linearSearch3(li, 5)"
   ]
  },
  {
   "cell_type": "code",
   "execution_count": null,
   "metadata": {},
   "outputs": [],
   "source": []
  },
  {
   "cell_type": "code",
   "execution_count": 146,
   "metadata": {},
   "outputs": [
    {
     "data": {
      "text/plain": [
       "2"
      ]
     },
     "execution_count": 146,
     "metadata": {},
     "output_type": "execute_result"
    }
   ],
   "source": [
    "#Function to count the occurances of character in a string\n",
    "#\"python programming\", m -> 2\n",
    "def countOfString(s, c):\n",
    "    count = 0\n",
    "    for ch in s:\n",
    "        if ch == c:\n",
    "            count += 1\n",
    "    return count\n",
    "countOfString(\"Python Programming\", 'a')\n",
    "   \n",
    "def countCharOccurances2(s, c):\n",
    "    return s,count(c)\n",
    "\n",
    "# Function to find the number of occurances of substring in a string\n",
    "#\"abacabacabca\", \"ab\" -> 2\n",
    "def occuranceSubString(s, sb):\n",
    "   results = 0\n",
    "   sub_len = len(sb)\n",
    "   for i in range(len(s)):\n",
    "       if s[i:i+sub_len] == sb:\n",
    "           results += 1\n",
    "   return results\n",
    "occuranceSubString('abcaaabcddcba', 'aa')\n",
    "    \n",
    "    "
   ]
  },
  {
   "cell_type": "code",
   "execution_count": null,
   "metadata": {},
   "outputs": [],
   "source": [
    "#"
   ]
  },
  {
   "cell_type": "code",
   "execution_count": null,
   "metadata": {},
   "outputs": [],
   "source": []
  },
  {
   "cell_type": "code",
   "execution_count": null,
   "metadata": {},
   "outputs": [],
   "source": []
  },
  {
   "cell_type": "code",
   "execution_count": null,
   "metadata": {},
   "outputs": [],
   "source": []
  }
 ],
 "metadata": {
  "kernelspec": {
   "display_name": "Python 3",
   "language": "python",
   "name": "python3"
  },
  "language_info": {
   "codemirror_mode": {
    "name": "ipython",
    "version": 3
   },
   "file_extension": ".py",
   "mimetype": "text/x-python",
   "name": "python",
   "nbconvert_exporter": "python",
   "pygments_lexer": "ipython3",
   "version": "3.7.3"
  }
 },
 "nbformat": 4,
 "nbformat_minor": 2
}
